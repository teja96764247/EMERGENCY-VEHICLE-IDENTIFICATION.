{
  "nbformat": 4,
  "nbformat_minor": 0,
  "metadata": {
    "colab": {
      "provenance": []
    },
    "kernelspec": {
      "name": "python3",
      "display_name": "Python 3"
    },
    "language_info": {
      "name": "python"
    }
  },
  "cells": [
    {
      "cell_type": "code",
      "execution_count": 1,
      "metadata": {
        "id": "Uqwl7Oqx37P2"
      },
      "outputs": [],
      "source": [
        "!mkdir -p ~/.kaggle\n",
        "!cp kaggle.json ~/.kaggle/\n",
        "!chmod 600 ~/.kaggle/kaggle.json"
      ]
    },
    {
      "cell_type": "code",
      "source": [
        "!kaggle datasets download -d abhisheksinghblr/emergency-vehicles-identification"
      ],
      "metadata": {
        "colab": {
          "base_uri": "https://localhost:8080/"
        },
        "id": "AaU28-uI39U0",
        "outputId": "ee5e1026-3043-489e-ba69-3992e8cddfbd"
      },
      "execution_count": 2,
      "outputs": [
        {
          "output_type": "stream",
          "name": "stdout",
          "text": [
            "Downloading emergency-vehicles-identification.zip to /content\n",
            " 39% 12.0M/30.9M [00:00<00:00, 39.8MB/s]\n",
            "100% 30.9M/30.9M [00:00<00:00, 85.7MB/s]\n"
          ]
        }
      ]
    },
    {
      "cell_type": "code",
      "source": [
        "from zipfile import ZipFile\n",
        "dataset = '/content/emergency-vehicles-identification.zip'\n",
        "\n",
        "with ZipFile(dataset,'r') as zip:\n",
        "  zip.extractall()\n",
        "  print('The dataset is extracted')"
      ],
      "metadata": {
        "colab": {
          "base_uri": "https://localhost:8080/"
        },
        "id": "tM8r0ZcB39Yp",
        "outputId": "96b90784-3c2a-4493-9fa7-06d857c1cf90"
      },
      "execution_count": 3,
      "outputs": [
        {
          "output_type": "stream",
          "name": "stdout",
          "text": [
            "The dataset is extracted\n"
          ]
        }
      ]
    },
    {
      "cell_type": "code",
      "source": [
        "import numpy as np\n",
        "import pandas as pd\n",
        "import matplotlib.pyplot as plt\n",
        "import os\n",
        "import cv2\n",
        "from PIL import Image\n",
        "from google.colab.patches import cv2_imshow"
      ],
      "metadata": {
        "id": "nPv-Bg4g43y-"
      },
      "execution_count": 5,
      "outputs": []
    },
    {
      "cell_type": "code",
      "source": [
        "train_folder=os.listdir('/content/Emergency_Vehicles/train')\n",
        "print(train_folder)\n",
        "print(len(train_folder))"
      ],
      "metadata": {
        "colab": {
          "base_uri": "https://localhost:8080/"
        },
        "id": "8PdZS6gu4wb_",
        "outputId": "ae16c1de-2b3a-48b1-b41b-8ed43699bdb0"
      },
      "execution_count": 6,
      "outputs": [
        {
          "output_type": "stream",
          "name": "stdout",
          "text": [
            "['779.jpg', '1490.jpg', '119.jpg', '1133.jpg', '1587.jpg', '2264.jpg', '1781.jpg', '1217.jpg', '775.jpg', '1830.jpg', '195.jpg', '1358.jpg', '1820.jpg', '1135.jpg', '236.jpg', '418.jpg', '1482.jpg', '1450.jpg', '15.jpg', '830.jpg', '1980.jpg', '966.jpg', '1915.jpg', '1803.jpg', '665.jpg', '2314.jpg', '1733.jpg', '449.jpg', '394.jpg', '2104.jpg', '1449.jpg', '1106.jpg', '2121.jpg', '2190.jpg', '384.jpg', '1912.jpg', '1849.jpg', '687.jpg', '373.jpg', '1615.jpg', '824.jpg', '333.jpg', '492.jpg', '799.jpg', '1833.jpg', '194.jpg', '1664.jpg', '180.jpg', '771.jpg', '784.jpg', '132.jpg', '2291.jpg', '942.jpg', '1066.jpg', '1806.jpg', '1277.jpg', '1704.jpg', '2251.jpg', '309.jpg', '1297.jpg', '1275.jpg', '2032.jpg', '984.jpg', '201.jpg', '1775.jpg', '1571.jpg', '412.jpg', '616.jpg', '2332.jpg', '828.jpg', '2281.jpg', '1095.jpg', '739.jpg', '30.jpg', '1727.jpg', '1507.jpg', '363.jpg', '1612.jpg', '1361.jpg', '89.jpg', '1751.jpg', '1782.jpg', '191.jpg', '1739.jpg', '716.jpg', '1843.jpg', '1595.jpg', '1467.jpg', '181.jpg', '152.jpg', '53.jpg', '1930.jpg', '1119.jpg', '1067.jpg', '1988.jpg', '1075.jpg', '1221.jpg', '1680.jpg', '1197.jpg', '375.jpg', '1764.jpg', '341.jpg', '1926.jpg', '774.jpg', '1738.jpg', '301.jpg', '1282.jpg', '2088.jpg', '186.jpg', '2217.jpg', '1871.jpg', '1283.jpg', '1428.jpg', '1711.jpg', '2169.jpg', '1218.jpg', '503.jpg', '1327.jpg', '1855.jpg', '1410.jpg', '1409.jpg', '60.jpg', '1596.jpg', '1955.jpg', '1790.jpg', '1921.jpg', '1920.jpg', '661.jpg', '1698.jpg', '338.jpg', '967.jpg', '1551.jpg', '1363.jpg', '1808.jpg', '757.jpg', '327.jpg', '41.jpg', '1578.jpg', '545.jpg', '17.jpg', '431.jpg', '1294.jpg', '125.jpg', '2161.jpg', '39.jpg', '1802.jpg', '2285.jpg', '2131.jpg', '1951.jpg', '917.jpg', '389.jpg', '1707.jpg', '2057.jpg', '1019.jpg', '386.jpg', '1763.jpg', '940.jpg', '1543.jpg', '2044.jpg', '533.jpg', '2013.jpg', '2315.jpg', '987.jpg', '864.jpg', '1412.jpg', '1541.jpg', '82.jpg', '1516.jpg', '743.jpg', '1777.jpg', '1191.jpg', '1786.jpg', '1959.jpg', '1302.jpg', '825.jpg', '956.jpg', '1586.jpg', '2294.jpg', '816.jpg', '217.jpg', '1256.jpg', '26.jpg', '248.jpg', '2005.jpg', '287.jpg', '175.jpg', '1908.jpg', '741.jpg', '1769.jpg', '710.jpg', '1022.jpg', '202.jpg', '2165.jpg', '2075.jpg', '466.jpg', '1956.jpg', '1825.jpg', '1193.jpg', '214.jpg', '1109.jpg', '2094.jpg', '473.jpg', '983.jpg', '2214.jpg', '419.jpg', '540.jpg', '2017.jpg', '1824.jpg', '1253.jpg', '1765.jpg', '1771.jpg', '2074.jpg', '1350.jpg', '1422.jpg', '597.jpg', '1590.jpg', '512.jpg', '1308.jpg', '2205.jpg', '1723.jpg', '1329.jpg', '28.jpg', '1462.jpg', '2351.jpg', '1585.jpg', '64.jpg', '1260.jpg', '1071.jpg', '1074.jpg', '551.jpg', '1540.jpg', '1440.jpg', '425.jpg', '2009.jpg', '1937.jpg', '1328.jpg', '584.jpg', '1104.jpg', '1336.jpg', '2320.jpg', '1194.jpg', '319.jpg', '1877.jpg', '1396.jpg', '339.jpg', '2072.jpg', '1656.jpg', '2216.jpg', '669.jpg', '2203.jpg', '790.jpg', '1730.jpg', '587.jpg', '794.jpg', '1298.jpg', '1090.jpg', '526.jpg', '2250.jpg', '1161.jpg', '1953.jpg', '919.jpg', '1529.jpg', '609.jpg', '1973.jpg', '253.jpg', '278.jpg', '481.jpg', '1715.jpg', '2340.jpg', '1375.jpg', '1156.jpg', '1495.jpg', '924.jpg', '103.jpg', '2350.jpg', '1660.jpg', '1304.jpg', '2215.jpg', '603.jpg', '805.jpg', '1339.jpg', '2043.jpg', '12.jpg', '262.jpg', '390.jpg', '818.jpg', '1153.jpg', '260.jpg', '1564.jpg', '753.jpg', '1476.jpg', '2299.jpg', '2061.jpg', '439.jpg', '498.jpg', '1003.jpg', '293.jpg', '1815.jpg', '1837.jpg', '1231.jpg', '164.jpg', '234.jpg', '153.jpg', '1846.jpg', '451.jpg', '1554.jpg', '1097.jpg', '890.jpg', '1427.jpg', '730.jpg', '734.jpg', '2090.jpg', '1209.jpg', '1372.jpg', '1036.jpg', '1934.jpg', '213.jpg', '1081.jpg', '2218.jpg', '1593.jpg', '762.jpg', '631.jpg', '2185.jpg', '1829.jpg', '2222.jpg', '169.jpg', '379.jpg', '66.jpg', '2290.jpg', '2202.jpg', '139.jpg', '1435.jpg', '1020.jpg', '1663.jpg', '1378.jpg', '797.jpg', '569.jpg', '559.jpg', '1616.jpg', '369.jpg', '1592.jpg', '634.jpg', '126.jpg', '2292.jpg', '1899.jpg', '648.jpg', '1573.jpg', '1162.jpg', '1072.jpg', '1515.jpg', '1799.jpg', '1039.jpg', '1206.jpg', '2187.jpg', '826.jpg', '154.jpg', '1994.jpg', '709.jpg', '1258.jpg', '493.jpg', '1259.jpg', '1383.jpg', '1322.jpg', '2114.jpg', '34.jpg', '1239.jpg', '244.jpg', '1565.jpg', '1528.jpg', '1079.jpg', '249.jpg', '652.jpg', '1243.jpg', '1426.jpg', '2081.jpg', '1387.jpg', '1623.jpg', '2146.jpg', '1804.jpg', '539.jpg', '934.jpg', '2232.jpg', '524.jpg', '133.jpg', '2172.jpg', '725.jpg', '701.jpg', '2029.jpg', '1560.jpg', '520.jpg', '1874.jpg', '2003.jpg', '400.jpg', '452.jpg', '2319.jpg', '1567.jpg', '823.jpg', '268.jpg', '1091.jpg', '801.jpg', '2087.jpg', '1731.jpg', '662.jpg', '1865.jpg', '405.jpg', '2263.jpg', '2296.jpg', '876.jpg', '81.jpg', '1821.jpg', '141.jpg', '1356.jpg', '732.jpg', '1867.jpg', '1555.jpg', '953.jpg', '1324.jpg', '2321.jpg', '91.jpg', '1692.jpg', '772.jpg', '474.jpg', '94.jpg', '806.jpg', '1971.jpg', '978.jpg', '1172.jpg', '2020.jpg', '1851.jpg', '521.jpg', '1860.jpg', '1149.jpg', '1575.jpg', '2056.jpg', '4.jpg', '149.jpg', '2116.jpg', '1073.jpg', '1060.jpg', '269.jpg', '624.jpg', '804.jpg', '223.jpg', '2026.jpg', '264.jpg', '2171.jpg', '62.jpg', '1164.jpg', '2237.jpg', '2304.jpg', '1023.jpg', '1186.jpg', '1031.jpg', '601.jpg', '991.jpg', '2305.jpg', '1158.jpg', '2330.jpg', '982.jpg', '206.jpg', '921.jpg', '123.jpg', '1628.jpg', '542.jpg', '1518.jpg', '2235.jpg', '1562.jpg', '515.jpg', '117.jpg', '950.jpg', '1404.jpg', '658.jpg', '1545.jpg', '563.jpg', '1634.jpg', '52.jpg', '1353.jpg', '1954.jpg', '1652.jpg', '2084.jpg', '1051.jpg', '1683.jpg', '1613.jpg', '1262.jpg', '1448.jpg', '317.jpg', '1242.jpg', '1658.jpg', '2325.jpg', '1568.jpg', '1343.jpg', '24.jpg', '2101.jpg', '1018.jpg', '2102.jpg', '1009.jpg', '1834.jpg', '2273.jpg', '1710.jpg', '10.jpg', '392.jpg', '314.jpg', '536.jpg', '1881.jpg', '866.jpg', '820.jpg', '1390.jpg', '1236.jpg', '1752.jpg', '170.jpg', '549.jpg', '1958.jpg', '1618.jpg', '1189.jpg', '699.jpg', '909.jpg', '489.jpg', '2258.jpg', '1539.jpg', '1700.jpg', '285.jpg', '1857.jpg', '265.jpg', '2240.jpg', '1734.jpg', '612.jpg', '1884.jpg', '1129.jpg', '1326.jpg', '2035.jpg', '443.jpg', '2119.jpg', '145.jpg', '2049.jpg', '1314.jpg', '723.jpg', '865.jpg', '1386.jpg', '106.jpg', '2120.jpg', '1306.jpg', '2211.jpg', '21.jpg', '1746.jpg', '1709.jpg', '2079.jpg', '1148.jpg', '1678.jpg', '2130.jpg', '1677.jpg', '22.jpg', '1788.jpg', '1792.jpg', '1371.jpg', '376.jpg', '2011.jpg', '1182.jpg', '745.jpg', '1748.jpg', '1392.jpg', '1508.jpg', '224.jpg', '2180.jpg', '1481.jpg', '2153.jpg', '2050.jpg', '846.jpg', '1130.jpg', '1909.jpg', '1469.jpg', '1210.jpg', '1633.jpg', '698.jpg', '870.jpg', '1629.jpg', '970.jpg', '1478.jpg', '491.jpg', '47.jpg', '385.jpg', '2228.jpg', '190.jpg', '2115.jpg', '146.jpg', '2142.jpg', '1840.jpg', '1531.jpg', '1563.jpg', '2239.jpg', '1038.jpg', '827.jpg', '1989.jpg', '110.jpg', '501.jpg', '938.jpg', '1433.jpg', '182.jpg', '1201.jpg', '813.jpg', '2323.jpg', '393.jpg', '1721.jpg', '2348.jpg', '9.jpg', '331.jpg', '1911.jpg', '534.jpg', '615.jpg', '1176.jpg', '1486.jpg', '749.jpg', '1627.jpg', '187.jpg', '1233.jpg', '1323.jpg', '1522.jpg', '1212.jpg', '1116.jpg', '842.jpg', '2241.jpg', '1429.jpg', '1696.jpg', '2288.jpg', '604.jpg', '994.jpg', '159.jpg', '2336.jpg', '1735.jpg', '646.jpg', '1069.jpg', '2148.jpg', '2086.jpg', '1134.jpg', '46.jpg', '1773.jpg', '138.jpg', '812.jpg', '1272.jpg', '553.jpg', '54.jpg', '1685.jpg', '404.jpg', '2327.jpg', '1342.jpg', '1185.jpg', '1252.jpg', '2268.jpg', '371.jpg', '2170.jpg', '250.jpg', '1887.jpg', '1447.jpg', '1030.jpg', '589.jpg', '1813.jpg', '1077.jpg', '349.jpg', '1534.jpg', '1689.jpg', '1235.jpg', '1636.jpg', '777.jpg', '580.jpg', '1150.jpg', '1754.jpg', '313.jpg', '2183.jpg', '1510.jpg', '2177.jpg', '2326.jpg', '1630.jpg', '1407.jpg', '1699.jpg', '246.jpg', '160.jpg', '717.jpg', '1155.jpg', '920.jpg', '868.jpg', '877.jpg', '241.jpg', '1549.jpg', '1251.jpg', '592.jpg', '556.jpg', '562.jpg', '1996.jpg', '708.jpg', '1032.jpg', '776.jpg', '1512.jpg', '2125.jpg', '2334.jpg', '837.jpg', '1168.jpg', '958.jpg', '1859.jpg', '1241.jpg', '839.jpg', '908.jpg', '292.jpg', '696.jpg', '922.jpg', '1845.jpg', '1561.jpg', '448.jpg', '352.jpg', '1140.jpg', '2122.jpg', '2238.jpg', '58.jpg', '1589.jpg', '691.jpg', '960.jpg', '796.jpg', '1373.jpg', '155.jpg', '1188.jpg', '1569.jpg', '1844.jpg', '882.jpg', '2112.jpg', '1691.jpg', '1062.jpg', '885.jpg', '1122.jpg', '2295.jpg', '490.jpg', '945.jpg', '1092.jpg', '1096.jpg', '391.jpg', '1671.jpg', '2048.jpg', '1257.jpg', '424.jpg', '1632.jpg', '1065.jpg', '627.jpg', '1388.jpg', '355.jpg', '1580.jpg', '344.jpg', '161.jpg', '702.jpg', '2100.jpg', '688.jpg', '2303.jpg', '1389.jpg', '1741.jpg', '1098.jpg', '1425.jpg', '778.jpg', '750.jpg', '446.jpg', '1705.jpg', '1419.jpg', '312.jpg', '45.jpg', '835.jpg', '1896.jpg', '628.jpg', '500.jpg', '131.jpg', '667.jpg', '1941.jpg', '1624.jpg', '2067.jpg', '340.jpg', '2018.jpg', '1267.jpg', '502.jpg', '1367.jpg', '1626.jpg', '2000.jpg', '847.jpg', '645.jpg', '484.jpg', '880.jpg', '1331.jpg', '2346.jpg', '276.jpg', '2173.jpg', '671.jpg', '2244.jpg', '566.jpg', '2284.jpg', '1432.jpg', '1801.jpg', '1880.jpg', '1107.jpg', '1215.jpg', '2347.jpg', '1498.jpg', '913.jpg', '171.jpg', '2310.jpg', '1742.jpg', '1337.jpg', '560.jpg', '740.jpg', '894.jpg', '436.jpg', '1527.jpg', '1669.jpg', '712.jpg', '995.jpg', '1245.jpg', '16.jpg', '165.jpg', '322.jpg', '1420.jpg', '1099.jpg', '1437.jpg', '666.jpg', '623.jpg', '2135.jpg', '1679.jpg', '1975.jpg', '1932.jpg', '476.jpg', '310.jpg', '1797.jpg', '1546.jpg', '572.jpg', '1088.jpg', '1108.jpg', '1111.jpg', '583.jpg', '928.jpg', '401.jpg', '860.jpg', '1248.jpg', '2046.jpg', '1981.jpg', '654.jpg', '1015.jpg', '755.jpg', '1503.jpg', '653.jpg', '832.jpg', '1013.jpg', '1597.jpg', '1610.jpg', '1202.jpg', '2297.jpg', '1011.jpg', '904.jpg', '1226.jpg', '2167.jpg', '2012.jpg', '72.jpg', '2286.jpg', '136.jpg', '780.jpg', '872.jpg', '2184.jpg', '2047.jpg', '1999.jpg', '1286.jpg', '2083.jpg', '1120.jpg', '245.jpg', '1588.jpg', '6.jpg', '578.jpg', '43.jpg', '752.jpg', '263.jpg', '1312.jpg', '1923.jpg', '197.jpg', '79.jpg', '1882.jpg', '907.jpg', '1296.jpg', '2001.jpg', '468.jpg', '1948.jpg', '731.jpg', '113.jpg', '683.jpg', '204.jpg', '1152.jpg', '664.jpg', '334.jpg', '61.jpg', '55.jpg', '167.jpg', '1438.jpg', '216.jpg', '325.jpg', '2260.jpg', '2070.jpg', '2179.jpg', '781.jpg', '1984.jpg', '2224.jpg', '1601.jpg', '576.jpg', '357.jpg', '2306.jpg', '1854.jpg', '1424.jpg', '1041.jpg', '977.jpg', '591.jpg', '568.jpg', '706.jpg', '1214.jpg', '567.jpg', '1931.jpg', '487.jpg', '728.jpg', '1787.jpg', '36.jpg', '1369.jpg', '1504.jpg', '462.jpg', '1415.jpg', '971.jpg', '2307.jpg', '2188.jpg', '356.jpg', '1400.jpg', '659.jpg', '1056.jpg', '1676.jpg', '993.jpg', '531.jpg', '274.jpg', '329.jpg', '988.jpg', '822.jpg', '1853.jpg', '999.jpg', '989.jpg', '114.jpg', '1335.jpg', '680.jpg', '1862.jpg', '1914.jpg', '1794.jpg', '266.jpg', '2231.jpg', '1890.jpg', '1986.jpg', '2197.jpg', '1213.jpg', '1234.jpg', '1686.jpg', '143.jpg', '242.jpg', '640.jpg', '1770.jpg', '1863.jpg', '1042.jpg', '1421.jpg', '122.jpg', '1474.jpg', '1468.jpg', '2193.jpg', '1524.jpg', '1165.jpg', '156.jpg', '1903.jpg', '1002.jpg', '413.jpg', '144.jpg', '726.jpg', '607.jpg', '893.jpg', '372.jpg', '215.jpg', '2342.jpg', '547.jpg', '586.jpg', '550.jpg', '107.jpg', '459.jpg', '803.jpg', '1289.jpg', '50.jpg', '980.jpg', '721.jpg', '1818.jpg', '744.jpg', '2138.jpg', '1354.jpg', '850.jpg', '2060.jpg', '1141.jpg', '1480.jpg', '2198.jpg', '7.jpg', '337.jpg', '946.jpg', '1536.jpg', '441.jpg', '1753.jpg', '1614.jpg', '1431.jpg', '1935.jpg', '365.jpg', '127.jpg', '1397.jpg', '1619.jpg', '675.jpg', '272.jpg', '2253.jpg', '1142.jpg', '1992.jpg', '600.jpg', '1812.jpg', '348.jpg', '85.jpg', '1225.jpg', '2076.jpg', '887.jpg', '1576.jpg', '1661.jpg', '336.jpg', '166.jpg', '488.jpg', '2058.jpg', '1866.jpg', '453.jpg', '1307.jpg', '2163.jpg', '469.jpg', '735.jpg', '2137.jpg', '1722.jpg', '2279.jpg', '1484.jpg', '714.jpg', '1200.jpg', '2149.jpg', '1688.jpg', '1858.jpg', '856.jpg', '1726.jpg', '681.jpg', '330.jpg', '1374.jpg', '2004.jpg', '395.jpg', '475.jpg', '1205.jpg', '1796.jpg', '2055.jpg', '516.jpg', '939.jpg', '517.jpg', '1749.jpg', '997.jpg', '1933.jpg', '1648.jpg', '689.jpg', '1674.jpg', '1977.jpg', '1384.jpg', '914.jpg', '1016.jpg', '295.jpg', '2108.jpg', '1408.jpg', '1572.jpg', '1276.jpg', '271.jpg', '974.jpg', '1856.jpg', '884.jpg', '2080.jpg', '2199.jpg', '1224.jpg', '1850.jpg', '397.jpg', '1402.jpg', '1826.jpg', '660.jpg', '943.jpg', '622.jpg', '764.jpg', '1600.jpg', '769.jpg', '2127.jpg', '2006.jpg', '345.jpg', '1759.jpg', '972.jpg', '1325.jpg', '40.jpg', '417.jpg', '1012.jpg', '510.jpg', '442.jpg', '802.jpg', '1399.jpg', '1929.jpg', '1416.jpg', '1319.jpg', '1895.jpg', '1822.jpg', '1046.jpg', '2133.jpg', '1925.jpg', '1171.jpg', '273.jpg', '2093.jpg', '676.jpg', '1718.jpg', '912.jpg', '140.jpg', '1485.jpg', '80.jpg', '1460.jpg', '2160.jpg', '2207.jpg', '1049.jpg', '1470.jpg', '467.jpg', '657.jpg', '1445.jpg', '1839.jpg', '633.jpg', '1190.jpg', '403.jpg', '93.jpg', '504.jpg', '1434.jpg', '1290.jpg', '992.jpg', '918.jpg', '1574.jpg', '2196.jpg', '1785.jpg', '751.jpg', '1299.jpg', '104.jpg', '2252.jpg', '315.jpg', '773.jpg', '1695.jpg', '2249.jpg', '1542.jpg', '1939.jpg', '2042.jpg', '137.jpg', '2064.jpg', '255.jpg', '1566.jpg', '2123.jpg', '2038.jpg', '2300.jpg', '2242.jpg', '1526.jpg', '2344.jpg', '335.jpg', '1889.jpg', '1869.jpg', '2034.jpg', '770.jpg', '1635.jpg', '1997.jpg', '27.jpg', '878.jpg', '1024.jpg', '1123.jpg', '663.jpg', '1982.jpg', '470.jpg', '130.jpg', '811.jpg', '1514.jpg', '258.jpg', '1761.jpg', '1570.jpg', '523.jpg', '238.jpg', '2014.jpg', '1809.jpg', '1471.jpg', '833.jpg', '1117.jpg', '1274.jpg', '1675.jpg', '346.jpg', '1309.jpg', '1957.jpg', '1035.jpg', '639.jpg', '1757.jpg', '399.jpg', '2210.jpg', '370.jpg', '1620.jpg', '1872.jpg', '142.jpg', '1093.jpg', '1494.jpg', '362.jpg', '172.jpg', '1906.jpg', '1823.jpg', '1506.jpg', '2019.jpg', '754.jpg', '300.jpg', '951.jpg', '415.jpg', '1983.jpg', '2031.jpg', '2289.jpg', '347.jpg', '902.jpg', '1497.jpg', '897.jpg', '225.jpg', '2209.jpg', '222.jpg', '364.jpg', '2139.jpg', '1888.jpg', '1348.jpg', '288.jpg', '2328.jpg', '1370.jpg', '2333.jpg', '1836.jpg', '1579.jpg', '1028.jpg', '722.jpg', '1048.jpg', '1878.jpg', '1063.jpg', '1942.jpg', '1913.jpg', '1972.jpg', '428.jpg', '151.jpg', '2132.jpg', '421.jpg', '199.jpg', '465.jpg', '1005.jpg', '1622.jpg', '304.jpg', '232.jpg', '189.jpg', '1.jpg', '116.jpg', '1969.jpg', '606.jpg', '1291.jpg', '815.jpg', '1702.jpg', '793.jpg', '1701.jpg', '108.jpg', '68.jpg', '2313.jpg', '1083.jpg', '1684.jpg', '1517.jpg', '150.jpg', '1599.jpg', '1136.jpg', '854.jpg', '1657.jpg', '724.jpg', '1147.jpg', '2096.jpg', '947.jpg', '1010.jpg', '513.jpg', '444.jpg', '747.jpg', '505.jpg', '1007.jpg', '2145.jpg', '1766.jpg', '593.jpg', '3.jpg', '2151.jpg', '758.jpg', '1638.jpg', '2308.jpg', '1649.jpg', '129.jpg', '1453.jpg', '768.jpg', '537.jpg', '968.jpg', '848.jpg', '294.jpg', '1114.jpg', '302.jpg', '720.jpg', '193.jpg', '1026.jpg', '1870.jpg', '243.jpg', '88.jpg', '1040.jpg', '852.jpg', '2110.jpg', '1082.jpg', '98.jpg', '626.jpg', '1076.jpg', '86.jpg', '1365.jpg', '1991.jpg', '608.jpg', '875.jpg', '2283.jpg', '1240.jpg', '1145.jpg', '2204.jpg', '736.jpg', '1520.jpg', '1919.jpg', '1509.jpg', '898.jpg', '1810.jpg', '1768.jpg', '1086.jpg', '996.jpg', '1464.jpg', '11.jpg', '2280.jpg', '1230.jpg', '1113.jpg', '1496.jpg', '896.jpg', '1332.jpg', '92.jpg', '1006.jpg', '1181.jpg', '1778.jpg', '1139.jpg', '1052.jpg', '814.jpg', '74.jpg', '437.jpg', '2.jpg', '1413.jpg', '895.jpg', '518.jpg', '2068.jpg', '2322.jpg', '1254.jpg', '2105.jpg', '1238.jpg', '2095.jpg', '1376.jpg', '2316.jpg', '579.jpg', '1227.jpg', '497.jpg', '1838.jpg', '42.jpg', '1879.jpg', '1533.jpg', '761.jpg', '955.jpg', '2103.jpg', '77.jpg', '1603.jpg', '697.jpg', '853.jpg', '1417.jpg', '1519.jpg', '911.jpg', '227.jpg', '38.jpg', '2234.jpg', '1758.jpg', '2109.jpg', '883.jpg', '455.jpg', '558.jpg', '844.jpg', '388.jpg', '546.jpg', '711.jpg', '2164.jpg', '1687.jpg', '454.jpg', '1368.jpg', '90.jpg', '1666.jpg', '2255.jpg', '1203.jpg', '760.jpg', '1816.jpg', '320.jpg', '2212.jpg', '962.jpg', '1643.jpg', '1641.jpg', '933.jpg', '1550.jpg', '737.jpg', '1118.jpg', '1659.jpg', '1978.jpg', '1246.jpg', '1157.jpg', '343.jpg', '2053.jpg', '1693.jpg', '75.jpg', '1173.jpg', '102.jpg', '2124.jpg', '1124.jpg', '1045.jpg', '635.jpg', '1943.jpg', '1831.jpg', '2106.jpg', '2223.jpg', '2191.jpg', '1556.jpg', '595.jpg', '158.jpg', '1473.jpg', '1265.jpg', '1300.jpg', '0.jpg', '690.jpg', '1893.jpg', '2022.jpg', '2269.jpg', '1650.jpg', '1346.jpg', '1059.jpg', '2301.jpg', '1998.jpg', '1832.jpg', '1483.jpg', '33.jpg', '261.jpg', '2016.jpg', '35.jpg', '2256.jpg', '1295.jpg', '1755.jpg', '183.jpg', '843.jpg', '763.jpg', '738.jpg', '323.jpg', '1974.jpg', '2302.jpg', '625.jpg', '1642.jpg', '985.jpg', '456.jpg', '1774.jpg', '1819.jpg', '2069.jpg', '644.jpg', '1443.jpg', '1169.jpg', '1317.jpg', '1784.jpg', '14.jpg', '1175.jpg', '396.jpg', '1489.jpg', '267.jpg', '97.jpg', '477.jpg', '1793.jpg', '1898.jpg', '1800.jpg', '2246.jpg', '1446.jpg', '1582.jpg', '1305.jpg', '2200.jpg', '31.jpg', '1938.jpg', '614.jpg', '1559.jpg', '1841.jpg', '378.jpg', '1682.jpg', '57.jpg', '655.jpg', '2341.jpg', '1892.jpg', '959.jpg', '684.jpg', '359.jpg', '1144.jpg', '1280.jpg', '594.jpg', '1479.jpg', '858.jpg', '766.jpg', '1617.jpg', '2041.jpg', '1716.jpg', '570.jpg', '1762.jpg', '2077.jpg', '783.jpg', '1174.jpg', '280.jpg', '2015.jpg', '1167.jpg', '1901.jpg', '1070.jpg', '1159.jpg', '1492.jpg', '2220.jpg', '588.jpg', '1458.jpg', '1401.jpg', '1672.jpg', '5.jpg', '901.jpg', '1631.jpg', '148.jpg', '1184.jpg', '789.jpg', '101.jpg', '358.jpg', '1654.jpg', '905.jpg', '2065.jpg', '851.jpg', '713.jpg', '1183.jpg', '703.jpg', '619.jpg', '1126.jpg', '2136.jpg', '748.jpg', '1101.jpg', '1493.jpg', '941.jpg', '891.jpg', '1219.jpg', '2213.jpg', '791.jpg', '2028.jpg', '1500.jpg', '541.jpg', '936.jpg', '957.jpg', '682.jpg', '910.jpg', '1347.jpg', '1250.jpg', '2150.jpg', '1708.jpg', '1044.jpg', '975.jpg', '1961.jpg', '899.jpg', '2329.jpg', '2166.jpg', '1712.jpg', '284.jpg', '954.jpg', '2141.jpg', '935.jpg', '1922.jpg', '1394.jpg', '1355.jpg', '1160.jpg', '1995.jpg', '2085.jpg', '638.jpg', '2324.jpg', '1916.jpg', '1058.jpg', '692.jpg', '499.jpg', '573.jpg', '112.jpg', '718.jpg', '1228.jpg', '1285.jpg', '2157.jpg', '257.jpg', '1115.jpg', '328.jpg', '1544.jpg', '673.jpg', '2054.jpg', '1021.jpg', '2236.jpg', '37.jpg', '496.jpg', '434.jpg', '1057.jpg', '147.jpg', '525.jpg', '795.jpg', '1043.jpg', '1180.jpg', '398.jpg', '871.jpg', '2027.jpg', '1442.jpg', '2182.jpg', '1505.jpg', '1917.jpg', '176.jpg', '641.jpg', '95.jpg', '1345.jpg', '1756.jpg', '1905.jpg', '574.jpg', '228.jpg', '1548.jpg', '326.jpg', '200.jpg', '969.jpg', '19.jpg', '1154.jpg', '704.jpg', '2062.jpg', '656.jpg', '1477.jpg', '235.jpg', '318.jpg', '863.jpg', '1439.jpg', '2025.jpg', '460.jpg', '1008.jpg', '1166.jpg', '1451.jpg', '1625.jpg', '577.jpg', '2024.jpg', '1581.jpg', '2221.jpg']\n",
            "1646\n"
          ]
        }
      ]
    },
    {
      "cell_type": "code",
      "source": [
        "train_data=pd.read_csv('/content/Emergency_Vehicles/train.csv')\n",
        "train_data.head()"
      ],
      "metadata": {
        "colab": {
          "base_uri": "https://localhost:8080/",
          "height": 206
        },
        "id": "5vKfsMpG5KY0",
        "outputId": "f943b455-2035-4f2f-ee7f-34fb6cf1766e"
      },
      "execution_count": 10,
      "outputs": [
        {
          "output_type": "execute_result",
          "data": {
            "text/plain": [
              "  image_names  emergency_or_not\n",
              "0    1503.jpg                 0\n",
              "1    1420.jpg                 0\n",
              "2    1764.jpg                 0\n",
              "3    1356.jpg                 0\n",
              "4    1117.jpg                 0"
            ],
            "text/html": [
              "\n",
              "  <div id=\"df-fffa63e7-ebd6-43e5-afaf-1d9120a87b39\" class=\"colab-df-container\">\n",
              "    <div>\n",
              "<style scoped>\n",
              "    .dataframe tbody tr th:only-of-type {\n",
              "        vertical-align: middle;\n",
              "    }\n",
              "\n",
              "    .dataframe tbody tr th {\n",
              "        vertical-align: top;\n",
              "    }\n",
              "\n",
              "    .dataframe thead th {\n",
              "        text-align: right;\n",
              "    }\n",
              "</style>\n",
              "<table border=\"1\" class=\"dataframe\">\n",
              "  <thead>\n",
              "    <tr style=\"text-align: right;\">\n",
              "      <th></th>\n",
              "      <th>image_names</th>\n",
              "      <th>emergency_or_not</th>\n",
              "    </tr>\n",
              "  </thead>\n",
              "  <tbody>\n",
              "    <tr>\n",
              "      <th>0</th>\n",
              "      <td>1503.jpg</td>\n",
              "      <td>0</td>\n",
              "    </tr>\n",
              "    <tr>\n",
              "      <th>1</th>\n",
              "      <td>1420.jpg</td>\n",
              "      <td>0</td>\n",
              "    </tr>\n",
              "    <tr>\n",
              "      <th>2</th>\n",
              "      <td>1764.jpg</td>\n",
              "      <td>0</td>\n",
              "    </tr>\n",
              "    <tr>\n",
              "      <th>3</th>\n",
              "      <td>1356.jpg</td>\n",
              "      <td>0</td>\n",
              "    </tr>\n",
              "    <tr>\n",
              "      <th>4</th>\n",
              "      <td>1117.jpg</td>\n",
              "      <td>0</td>\n",
              "    </tr>\n",
              "  </tbody>\n",
              "</table>\n",
              "</div>\n",
              "    <div class=\"colab-df-buttons\">\n",
              "\n",
              "  <div class=\"colab-df-container\">\n",
              "    <button class=\"colab-df-convert\" onclick=\"convertToInteractive('df-fffa63e7-ebd6-43e5-afaf-1d9120a87b39')\"\n",
              "            title=\"Convert this dataframe to an interactive table.\"\n",
              "            style=\"display:none;\">\n",
              "\n",
              "  <svg xmlns=\"http://www.w3.org/2000/svg\" height=\"24px\" viewBox=\"0 -960 960 960\">\n",
              "    <path d=\"M120-120v-720h720v720H120Zm60-500h600v-160H180v160Zm220 220h160v-160H400v160Zm0 220h160v-160H400v160ZM180-400h160v-160H180v160Zm440 0h160v-160H620v160ZM180-180h160v-160H180v160Zm440 0h160v-160H620v160Z\"/>\n",
              "  </svg>\n",
              "    </button>\n",
              "\n",
              "  <style>\n",
              "    .colab-df-container {\n",
              "      display:flex;\n",
              "      gap: 12px;\n",
              "    }\n",
              "\n",
              "    .colab-df-convert {\n",
              "      background-color: #E8F0FE;\n",
              "      border: none;\n",
              "      border-radius: 50%;\n",
              "      cursor: pointer;\n",
              "      display: none;\n",
              "      fill: #1967D2;\n",
              "      height: 32px;\n",
              "      padding: 0 0 0 0;\n",
              "      width: 32px;\n",
              "    }\n",
              "\n",
              "    .colab-df-convert:hover {\n",
              "      background-color: #E2EBFA;\n",
              "      box-shadow: 0px 1px 2px rgba(60, 64, 67, 0.3), 0px 1px 3px 1px rgba(60, 64, 67, 0.15);\n",
              "      fill: #174EA6;\n",
              "    }\n",
              "\n",
              "    .colab-df-buttons div {\n",
              "      margin-bottom: 4px;\n",
              "    }\n",
              "\n",
              "    [theme=dark] .colab-df-convert {\n",
              "      background-color: #3B4455;\n",
              "      fill: #D2E3FC;\n",
              "    }\n",
              "\n",
              "    [theme=dark] .colab-df-convert:hover {\n",
              "      background-color: #434B5C;\n",
              "      box-shadow: 0px 1px 3px 1px rgba(0, 0, 0, 0.15);\n",
              "      filter: drop-shadow(0px 1px 2px rgba(0, 0, 0, 0.3));\n",
              "      fill: #FFFFFF;\n",
              "    }\n",
              "  </style>\n",
              "\n",
              "    <script>\n",
              "      const buttonEl =\n",
              "        document.querySelector('#df-fffa63e7-ebd6-43e5-afaf-1d9120a87b39 button.colab-df-convert');\n",
              "      buttonEl.style.display =\n",
              "        google.colab.kernel.accessAllowed ? 'block' : 'none';\n",
              "\n",
              "      async function convertToInteractive(key) {\n",
              "        const element = document.querySelector('#df-fffa63e7-ebd6-43e5-afaf-1d9120a87b39');\n",
              "        const dataTable =\n",
              "          await google.colab.kernel.invokeFunction('convertToInteractive',\n",
              "                                                    [key], {});\n",
              "        if (!dataTable) return;\n",
              "\n",
              "        const docLinkHtml = 'Like what you see? Visit the ' +\n",
              "          '<a target=\"_blank\" href=https://colab.research.google.com/notebooks/data_table.ipynb>data table notebook</a>'\n",
              "          + ' to learn more about interactive tables.';\n",
              "        element.innerHTML = '';\n",
              "        dataTable['output_type'] = 'display_data';\n",
              "        await google.colab.output.renderOutput(dataTable, element);\n",
              "        const docLink = document.createElement('div');\n",
              "        docLink.innerHTML = docLinkHtml;\n",
              "        element.appendChild(docLink);\n",
              "      }\n",
              "    </script>\n",
              "  </div>\n",
              "\n",
              "\n",
              "<div id=\"df-cf8b4910-3177-4e97-bc20-bd5618d12542\">\n",
              "  <button class=\"colab-df-quickchart\" onclick=\"quickchart('df-cf8b4910-3177-4e97-bc20-bd5618d12542')\"\n",
              "            title=\"Suggest charts\"\n",
              "            style=\"display:none;\">\n",
              "\n",
              "<svg xmlns=\"http://www.w3.org/2000/svg\" height=\"24px\"viewBox=\"0 0 24 24\"\n",
              "     width=\"24px\">\n",
              "    <g>\n",
              "        <path d=\"M19 3H5c-1.1 0-2 .9-2 2v14c0 1.1.9 2 2 2h14c1.1 0 2-.9 2-2V5c0-1.1-.9-2-2-2zM9 17H7v-7h2v7zm4 0h-2V7h2v10zm4 0h-2v-4h2v4z\"/>\n",
              "    </g>\n",
              "</svg>\n",
              "  </button>\n",
              "\n",
              "<style>\n",
              "  .colab-df-quickchart {\n",
              "      --bg-color: #E8F0FE;\n",
              "      --fill-color: #1967D2;\n",
              "      --hover-bg-color: #E2EBFA;\n",
              "      --hover-fill-color: #174EA6;\n",
              "      --disabled-fill-color: #AAA;\n",
              "      --disabled-bg-color: #DDD;\n",
              "  }\n",
              "\n",
              "  [theme=dark] .colab-df-quickchart {\n",
              "      --bg-color: #3B4455;\n",
              "      --fill-color: #D2E3FC;\n",
              "      --hover-bg-color: #434B5C;\n",
              "      --hover-fill-color: #FFFFFF;\n",
              "      --disabled-bg-color: #3B4455;\n",
              "      --disabled-fill-color: #666;\n",
              "  }\n",
              "\n",
              "  .colab-df-quickchart {\n",
              "    background-color: var(--bg-color);\n",
              "    border: none;\n",
              "    border-radius: 50%;\n",
              "    cursor: pointer;\n",
              "    display: none;\n",
              "    fill: var(--fill-color);\n",
              "    height: 32px;\n",
              "    padding: 0;\n",
              "    width: 32px;\n",
              "  }\n",
              "\n",
              "  .colab-df-quickchart:hover {\n",
              "    background-color: var(--hover-bg-color);\n",
              "    box-shadow: 0 1px 2px rgba(60, 64, 67, 0.3), 0 1px 3px 1px rgba(60, 64, 67, 0.15);\n",
              "    fill: var(--button-hover-fill-color);\n",
              "  }\n",
              "\n",
              "  .colab-df-quickchart-complete:disabled,\n",
              "  .colab-df-quickchart-complete:disabled:hover {\n",
              "    background-color: var(--disabled-bg-color);\n",
              "    fill: var(--disabled-fill-color);\n",
              "    box-shadow: none;\n",
              "  }\n",
              "\n",
              "  .colab-df-spinner {\n",
              "    border: 2px solid var(--fill-color);\n",
              "    border-color: transparent;\n",
              "    border-bottom-color: var(--fill-color);\n",
              "    animation:\n",
              "      spin 1s steps(1) infinite;\n",
              "  }\n",
              "\n",
              "  @keyframes spin {\n",
              "    0% {\n",
              "      border-color: transparent;\n",
              "      border-bottom-color: var(--fill-color);\n",
              "      border-left-color: var(--fill-color);\n",
              "    }\n",
              "    20% {\n",
              "      border-color: transparent;\n",
              "      border-left-color: var(--fill-color);\n",
              "      border-top-color: var(--fill-color);\n",
              "    }\n",
              "    30% {\n",
              "      border-color: transparent;\n",
              "      border-left-color: var(--fill-color);\n",
              "      border-top-color: var(--fill-color);\n",
              "      border-right-color: var(--fill-color);\n",
              "    }\n",
              "    40% {\n",
              "      border-color: transparent;\n",
              "      border-right-color: var(--fill-color);\n",
              "      border-top-color: var(--fill-color);\n",
              "    }\n",
              "    60% {\n",
              "      border-color: transparent;\n",
              "      border-right-color: var(--fill-color);\n",
              "    }\n",
              "    80% {\n",
              "      border-color: transparent;\n",
              "      border-right-color: var(--fill-color);\n",
              "      border-bottom-color: var(--fill-color);\n",
              "    }\n",
              "    90% {\n",
              "      border-color: transparent;\n",
              "      border-bottom-color: var(--fill-color);\n",
              "    }\n",
              "  }\n",
              "</style>\n",
              "\n",
              "  <script>\n",
              "    async function quickchart(key) {\n",
              "      const quickchartButtonEl =\n",
              "        document.querySelector('#' + key + ' button');\n",
              "      quickchartButtonEl.disabled = true;  // To prevent multiple clicks.\n",
              "      quickchartButtonEl.classList.add('colab-df-spinner');\n",
              "      try {\n",
              "        const charts = await google.colab.kernel.invokeFunction(\n",
              "            'suggestCharts', [key], {});\n",
              "      } catch (error) {\n",
              "        console.error('Error during call to suggestCharts:', error);\n",
              "      }\n",
              "      quickchartButtonEl.classList.remove('colab-df-spinner');\n",
              "      quickchartButtonEl.classList.add('colab-df-quickchart-complete');\n",
              "    }\n",
              "    (() => {\n",
              "      let quickchartButtonEl =\n",
              "        document.querySelector('#df-cf8b4910-3177-4e97-bc20-bd5618d12542 button');\n",
              "      quickchartButtonEl.style.display =\n",
              "        google.colab.kernel.accessAllowed ? 'block' : 'none';\n",
              "    })();\n",
              "  </script>\n",
              "</div>\n",
              "\n",
              "    </div>\n",
              "  </div>\n"
            ]
          },
          "metadata": {},
          "execution_count": 10
        }
      ]
    },
    {
      "cell_type": "code",
      "source": [
        "train_data.shape"
      ],
      "metadata": {
        "colab": {
          "base_uri": "https://localhost:8080/"
        },
        "id": "XHjYiJp36HEW",
        "outputId": "e5b5f2c4-c625-4265-b844-c309ed3e6eb6"
      },
      "execution_count": 13,
      "outputs": [
        {
          "output_type": "execute_result",
          "data": {
            "text/plain": [
              "(1646, 2)"
            ]
          },
          "metadata": {},
          "execution_count": 13
        }
      ]
    },
    {
      "cell_type": "code",
      "source": [
        "data=[]"
      ],
      "metadata": {
        "id": "Vg67DVG-6BZI"
      },
      "execution_count": 14,
      "outputs": []
    },
    {
      "cell_type": "code",
      "source": [
        "i=0\n",
        "for img in train_data['image_names']:\n",
        "  img_path='/content/Emergency_Vehicles/train/'+img\n",
        "  img_pillow=Image.open(img_path)\n",
        "  img_color=img_pillow.convert('RGB')\n",
        "  img_resize=img_color.resize((64,64))\n",
        "  img_arr=np.array(img_resize)\n",
        "  data.append([img_arr,train_data['emergency_or_not'][i]])\n",
        "  i=i+1"
      ],
      "metadata": {
        "id": "2Duttwtk5teD"
      },
      "execution_count": 15,
      "outputs": []
    },
    {
      "cell_type": "code",
      "source": [
        "x=[]\n",
        "y=[]\n",
        "for k,l in data:\n",
        "  x.append(k)\n",
        "  y.append(l)"
      ],
      "metadata": {
        "id": "ErD5wcOq5_X1"
      },
      "execution_count": 16,
      "outputs": []
    },
    {
      "cell_type": "code",
      "source": [
        "cv2_imshow(x[0])"
      ],
      "metadata": {
        "colab": {
          "base_uri": "https://localhost:8080/",
          "height": 81
        },
        "id": "MEfVKlbE7Zhz",
        "outputId": "bad9a738-1778-4c50-b1d4-643a722761f3"
      },
      "execution_count": 17,
      "outputs": [
        {
          "output_type": "display_data",
          "data": {
            "text/plain": [
              "<PIL.Image.Image image mode=RGB size=64x64>"
            ],
            "image/png": "[encoded data removed]"
          },
          "metadata": {}
        }
      ]
    },
    {
      "cell_type": "code",
      "source": [
        "y[0]"
      ],
      "metadata": {
        "colab": {
          "base_uri": "https://localhost:8080/"
        },
        "id": "ExLZe8TT7d16",
        "outputId": "427b1cbc-882d-43e0-fb93-ead54646c908"
      },
      "execution_count": 18,
      "outputs": [
        {
          "output_type": "execute_result",
          "data": {
            "text/plain": [
              "0"
            ]
          },
          "metadata": {},
          "execution_count": 18
        }
      ]
    },
    {
      "cell_type": "code",
      "source": [
        "train_data.tail()"
      ],
      "metadata": {
        "colab": {
          "base_uri": "https://localhost:8080/",
          "height": 206
        },
        "id": "9m0VFxk17gCz",
        "outputId": "14e7e1b3-fc31-4543-a422-582d836203ea"
      },
      "execution_count": 19,
      "outputs": [
        {
          "output_type": "execute_result",
          "data": {
            "text/plain": [
              "     image_names  emergency_or_not\n",
              "1641    1638.jpg                 0\n",
              "1642    1095.jpg                 0\n",
              "1643    1130.jpg                 0\n",
              "1644    1294.jpg                 0\n",
              "1645     860.jpg                 1"
            ],
            "text/html": [
              "\n",
              "  <div id=\"df-c99858a0-e1c2-4061-86b6-04f6771902f1\" class=\"colab-df-container\">\n",
              "    <div>\n",
              "<style scoped>\n",
              "    .dataframe tbody tr th:only-of-type {\n",
              "        vertical-align: middle;\n",
              "    }\n",
              "\n",
              "    .dataframe tbody tr th {\n",
              "        vertical-align: top;\n",
              "    }\n",
              "\n",
              "    .dataframe thead th {\n",
              "        text-align: right;\n",
              "    }\n",
              "</style>\n",
              "<table border=\"1\" class=\"dataframe\">\n",
              "  <thead>\n",
              "    <tr style=\"text-align: right;\">\n",
              "      <th></th>\n",
              "      <th>image_names</th>\n",
              "      <th>emergency_or_not</th>\n",
              "    </tr>\n",
              "  </thead>\n",
              "  <tbody>\n",
              "    <tr>\n",
              "      <th>1641</th>\n",
              "      <td>1638.jpg</td>\n",
              "      <td>0</td>\n",
              "    </tr>\n",
              "    <tr>\n",
              "      <th>1642</th>\n",
              "      <td>1095.jpg</td>\n",
              "      <td>0</td>\n",
              "    </tr>\n",
              "    <tr>\n",
              "      <th>1643</th>\n",
              "      <td>1130.jpg</td>\n",
              "      <td>0</td>\n",
              "    </tr>\n",
              "    <tr>\n",
              "      <th>1644</th>\n",
              "      <td>1294.jpg</td>\n",
              "      <td>0</td>\n",
              "    </tr>\n",
              "    <tr>\n",
              "      <th>1645</th>\n",
              "      <td>860.jpg</td>\n",
              "      <td>1</td>\n",
              "    </tr>\n",
              "  </tbody>\n",
              "</table>\n",
              "</div>\n",
              "    <div class=\"colab-df-buttons\">\n",
              "\n",
              "  <div class=\"colab-df-container\">\n",
              "    <button class=\"colab-df-convert\" onclick=\"convertToInteractive('df-c99858a0-e1c2-4061-86b6-04f6771902f1')\"\n",
              "            title=\"Convert this dataframe to an interactive table.\"\n",
              "            style=\"display:none;\">\n",
              "\n",
              "  <svg xmlns=\"http://www.w3.org/2000/svg\" height=\"24px\" viewBox=\"0 -960 960 960\">\n",
              "    <path d=\"M120-120v-720h720v720H120Zm60-500h600v-160H180v160Zm220 220h160v-160H400v160Zm0 220h160v-160H400v160ZM180-400h160v-160H180v160Zm440 0h160v-160H620v160ZM180-180h160v-160H180v160Zm440 0h160v-160H620v160Z\"/>\n",
              "  </svg>\n",
              "    </button>\n",
              "\n",
              "  <style>\n",
              "    .colab-df-container {\n",
              "      display:flex;\n",
              "      gap: 12px;\n",
              "    }\n",
              "\n",
              "    .colab-df-convert {\n",
              "      background-color: #E8F0FE;\n",
              "      border: none;\n",
              "      border-radius: 50%;\n",
              "      cursor: pointer;\n",
              "      display: none;\n",
              "      fill: #1967D2;\n",
              "      height: 32px;\n",
              "      padding: 0 0 0 0;\n",
              "      width: 32px;\n",
              "    }\n",
              "\n",
              "    .colab-df-convert:hover {\n",
              "      background-color: #E2EBFA;\n",
              "      box-shadow: 0px 1px 2px rgba(60, 64, 67, 0.3), 0px 1px 3px 1px rgba(60, 64, 67, 0.15);\n",
              "      fill: #174EA6;\n",
              "    }\n",
              "\n",
              "    .colab-df-buttons div {\n",
              "      margin-bottom: 4px;\n",
              "    }\n",
              "\n",
              "    [theme=dark] .colab-df-convert {\n",
              "      background-color: #3B4455;\n",
              "      fill: #D2E3FC;\n",
              "    }\n",
              "\n",
              "    [theme=dark] .colab-df-convert:hover {\n",
              "      background-color: #434B5C;\n",
              "      box-shadow: 0px 1px 3px 1px rgba(0, 0, 0, 0.15);\n",
              "      filter: drop-shadow(0px 1px 2px rgba(0, 0, 0, 0.3));\n",
              "      fill: #FFFFFF;\n",
              "    }\n",
              "  </style>\n",
              "\n",
              "    <script>\n",
              "      const buttonEl =\n",
              "        document.querySelector('#df-c99858a0-e1c2-4061-86b6-04f6771902f1 button.colab-df-convert');\n",
              "      buttonEl.style.display =\n",
              "        google.colab.kernel.accessAllowed ? 'block' : 'none';\n",
              "\n",
              "      async function convertToInteractive(key) {\n",
              "        const element = document.querySelector('#df-c99858a0-e1c2-4061-86b6-04f6771902f1');\n",
              "        const dataTable =\n",
              "          await google.colab.kernel.invokeFunction('convertToInteractive',\n",
              "                                                    [key], {});\n",
              "        if (!dataTable) return;\n",
              "\n",
              "        const docLinkHtml = 'Like what you see? Visit the ' +\n",
              "          '<a target=\"_blank\" href=https://colab.research.google.com/notebooks/data_table.ipynb>data table notebook</a>'\n",
              "          + ' to learn more about interactive tables.';\n",
              "        element.innerHTML = '';\n",
              "        dataTable['output_type'] = 'display_data';\n",
              "        await google.colab.output.renderOutput(dataTable, element);\n",
              "        const docLink = document.createElement('div');\n",
              "        docLink.innerHTML = docLinkHtml;\n",
              "        element.appendChild(docLink);\n",
              "      }\n",
              "    </script>\n",
              "  </div>\n",
              "\n",
              "\n",
              "<div id=\"df-f01ffbf2-075d-42d7-8f36-ecaa2f62757d\">\n",
              "  <button class=\"colab-df-quickchart\" onclick=\"quickchart('df-f01ffbf2-075d-42d7-8f36-ecaa2f62757d')\"\n",
              "            title=\"Suggest charts\"\n",
              "            style=\"display:none;\">\n",
              "\n",
              "<svg xmlns=\"http://www.w3.org/2000/svg\" height=\"24px\"viewBox=\"0 0 24 24\"\n",
              "     width=\"24px\">\n",
              "    <g>\n",
              "        <path d=\"M19 3H5c-1.1 0-2 .9-2 2v14c0 1.1.9 2 2 2h14c1.1 0 2-.9 2-2V5c0-1.1-.9-2-2-2zM9 17H7v-7h2v7zm4 0h-2V7h2v10zm4 0h-2v-4h2v4z\"/>\n",
              "    </g>\n",
              "</svg>\n",
              "  </button>\n",
              "\n",
              "<style>\n",
              "  .colab-df-quickchart {\n",
              "      --bg-color: #E8F0FE;\n",
              "      --fill-color: #1967D2;\n",
              "      --hover-bg-color: #E2EBFA;\n",
              "      --hover-fill-color: #174EA6;\n",
              "      --disabled-fill-color: #AAA;\n",
              "      --disabled-bg-color: #DDD;\n",
              "  }\n",
              "\n",
              "  [theme=dark] .colab-df-quickchart {\n",
              "      --bg-color: #3B4455;\n",
              "      --fill-color: #D2E3FC;\n",
              "      --hover-bg-color: #434B5C;\n",
              "      --hover-fill-color: #FFFFFF;\n",
              "      --disabled-bg-color: #3B4455;\n",
              "      --disabled-fill-color: #666;\n",
              "  }\n",
              "\n",
              "  .colab-df-quickchart {\n",
              "    background-color: var(--bg-color);\n",
              "    border: none;\n",
              "    border-radius: 50%;\n",
              "    cursor: pointer;\n",
              "    display: none;\n",
              "    fill: var(--fill-color);\n",
              "    height: 32px;\n",
              "    padding: 0;\n",
              "    width: 32px;\n",
              "  }\n",
              "\n",
              "  .colab-df-quickchart:hover {\n",
              "    background-color: var(--hover-bg-color);\n",
              "    box-shadow: 0 1px 2px rgba(60, 64, 67, 0.3), 0 1px 3px 1px rgba(60, 64, 67, 0.15);\n",
              "    fill: var(--button-hover-fill-color);\n",
              "  }\n",
              "\n",
              "  .colab-df-quickchart-complete:disabled,\n",
              "  .colab-df-quickchart-complete:disabled:hover {\n",
              "    background-color: var(--disabled-bg-color);\n",
              "    fill: var(--disabled-fill-color);\n",
              "    box-shadow: none;\n",
              "  }\n",
              "\n",
              "  .colab-df-spinner {\n",
              "    border: 2px solid var(--fill-color);\n",
              "    border-color: transparent;\n",
              "    border-bottom-color: var(--fill-color);\n",
              "    animation:\n",
              "      spin 1s steps(1) infinite;\n",
              "  }\n",
              "\n",
              "  @keyframes spin {\n",
              "    0% {\n",
              "      border-color: transparent;\n",
              "      border-bottom-color: var(--fill-color);\n",
              "      border-left-color: var(--fill-color);\n",
              "    }\n",
              "    20% {\n",
              "      border-color: transparent;\n",
              "      border-left-color: var(--fill-color);\n",
              "      border-top-color: var(--fill-color);\n",
              "    }\n",
              "    30% {\n",
              "      border-color: transparent;\n",
              "      border-left-color: var(--fill-color);\n",
              "      border-top-color: var(--fill-color);\n",
              "      border-right-color: var(--fill-color);\n",
              "    }\n",
              "    40% {\n",
              "      border-color: transparent;\n",
              "      border-right-color: var(--fill-color);\n",
              "      border-top-color: var(--fill-color);\n",
              "    }\n",
              "    60% {\n",
              "      border-color: transparent;\n",
              "      border-right-color: var(--fill-color);\n",
              "    }\n",
              "    80% {\n",
              "      border-color: transparent;\n",
              "      border-right-color: var(--fill-color);\n",
              "      border-bottom-color: var(--fill-color);\n",
              "    }\n",
              "    90% {\n",
              "      border-color: transparent;\n",
              "      border-bottom-color: var(--fill-color);\n",
              "    }\n",
              "  }\n",
              "</style>\n",
              "\n",
              "  <script>\n",
              "    async function quickchart(key) {\n",
              "      const quickchartButtonEl =\n",
              "        document.querySelector('#' + key + ' button');\n",
              "      quickchartButtonEl.disabled = true;  // To prevent multiple clicks.\n",
              "      quickchartButtonEl.classList.add('colab-df-spinner');\n",
              "      try {\n",
              "        const charts = await google.colab.kernel.invokeFunction(\n",
              "            'suggestCharts', [key], {});\n",
              "      } catch (error) {\n",
              "        console.error('Error during call to suggestCharts:', error);\n",
              "      }\n",
              "      quickchartButtonEl.classList.remove('colab-df-spinner');\n",
              "      quickchartButtonEl.classList.add('colab-df-quickchart-complete');\n",
              "    }\n",
              "    (() => {\n",
              "      let quickchartButtonEl =\n",
              "        document.querySelector('#df-f01ffbf2-075d-42d7-8f36-ecaa2f62757d button');\n",
              "      quickchartButtonEl.style.display =\n",
              "        google.colab.kernel.accessAllowed ? 'block' : 'none';\n",
              "    })();\n",
              "  </script>\n",
              "</div>\n",
              "\n",
              "    </div>\n",
              "  </div>\n"
            ]
          },
          "metadata": {},
          "execution_count": 19
        }
      ]
    },
    {
      "cell_type": "code",
      "source": [
        "cv2_imshow(x[1645])"
      ],
      "metadata": {
        "colab": {
          "base_uri": "https://localhost:8080/",
          "height": 81
        },
        "id": "5qgvthCl7k6i",
        "outputId": "f9ec32bc-36eb-4bb1-e7a8-d40468819d84"
      },
      "execution_count": 20,
      "outputs": [
        {
          "output_type": "display_data",
          "data": {
            "text/plain": [
              "<PIL.Image.Image image mode=RGB size=64x64>"
            ],
            "image/png": "[encoded data removed]"
          },
          "metadata": {}
        }
      ]
    },
    {
      "cell_type": "code",
      "source": [
        "y[1645]"
      ],
      "metadata": {
        "colab": {
          "base_uri": "https://localhost:8080/"
        },
        "id": "QPLei1Xm7shC",
        "outputId": "1bd30caa-61f3-47ee-dc34-e3b4cdd7f7df"
      },
      "execution_count": 21,
      "outputs": [
        {
          "output_type": "execute_result",
          "data": {
            "text/plain": [
              "1"
            ]
          },
          "metadata": {},
          "execution_count": 21
        }
      ]
    },
    {
      "cell_type": "code",
      "source": [
        "x=np.array(x)\n",
        "y=np.array(y)"
      ],
      "metadata": {
        "id": "zKnMDLUG7wlK"
      },
      "execution_count": 22,
      "outputs": []
    },
    {
      "cell_type": "code",
      "source": [
        "x_scaled=x/255"
      ],
      "metadata": {
        "id": "1GYvY6Sy75ka"
      },
      "execution_count": 23,
      "outputs": []
    },
    {
      "cell_type": "code",
      "source": [
        "import tensorflow as tf\n",
        "from tensorflow import keras"
      ],
      "metadata": {
        "id": "_hUDtOm38Kdi"
      },
      "execution_count": 24,
      "outputs": []
    },
    {
      "cell_type": "code",
      "source": [
        "num_of_classes=2\n",
        "model=keras.Sequential()\n",
        "\n",
        "model.add(keras.layers.Conv2D(32,kernel_size=(3,3),activation='relu',input_shape=(64,64,3)))\n",
        "model.add(keras.layers.MaxPooling2D(pool_size=(2,2)))\n",
        "\n",
        "model.add(keras.layers.Conv2D(64,kernel_size=(3,3),activation='relu'))\n",
        "model.add(keras.layers.MaxPooling2D(pool_size=(2,2)))\n",
        "\n",
        "model.add(keras.layers.Flatten())\n",
        "\n",
        "model.add(keras.layers.Dense(128,activation='relu'))\n",
        "model.add(keras.layers.Dropout(0.5))\n",
        "\n",
        "model.add(keras.layers.Dense(64,activation='relu'))\n",
        "model.add(keras.layers.Dropout(0.5))\n",
        "\n",
        "model.add(keras.layers.Dense(num_of_classes,activation='softmax'))"
      ],
      "metadata": {
        "id": "EmcPDffq8E2T"
      },
      "execution_count": 25,
      "outputs": []
    },
    {
      "cell_type": "code",
      "source": [
        "model.compile(optimizer='adam',loss='sparse_categorical_crossentropy',metrics=['accuracy'])"
      ],
      "metadata": {
        "id": "cwSnlF198UT7"
      },
      "execution_count": 27,
      "outputs": []
    },
    {
      "cell_type": "code",
      "source": [
        "model.fit(x_scaled,y,epochs=10,validation_split=0.1)"
      ],
      "metadata": {
        "colab": {
          "base_uri": "https://localhost:8080/"
        },
        "id": "4sczO9BU8d07",
        "outputId": "e9db68e8-b090-4b3e-d898-c48099d76005"
      },
      "execution_count": 29,
      "outputs": [
        {
          "output_type": "stream",
          "name": "stdout",
          "text": [
            "Epoch 1/10\n",
            "47/47 [==============================] - 7s 152ms/step - loss: 0.1365 - accuracy: 0.9487 - val_loss: 0.6305 - val_accuracy: 0.7636\n",
            "Epoch 2/10\n",
            "47/47 [==============================] - 12s 265ms/step - loss: 0.1033 - accuracy: 0.9656 - val_loss: 0.8269 - val_accuracy: 0.7515\n",
            "Epoch 3/10\n",
            "47/47 [==============================] - 7s 156ms/step - loss: 0.0882 - accuracy: 0.9662 - val_loss: 0.7395 - val_accuracy: 0.7697\n",
            "Epoch 4/10\n",
            "47/47 [==============================] - 9s 188ms/step - loss: 0.0652 - accuracy: 0.9777 - val_loss: 0.9265 - val_accuracy: 0.7879\n",
            "Epoch 5/10\n",
            "47/47 [==============================] - 9s 187ms/step - loss: 0.0658 - accuracy: 0.9791 - val_loss: 0.8020 - val_accuracy: 0.7758\n",
            "Epoch 6/10\n",
            "47/47 [==============================] - 7s 153ms/step - loss: 0.0430 - accuracy: 0.9885 - val_loss: 0.9487 - val_accuracy: 0.7818\n",
            "Epoch 7/10\n",
            "47/47 [==============================] - 9s 191ms/step - loss: 0.0522 - accuracy: 0.9845 - val_loss: 0.9755 - val_accuracy: 0.7576\n",
            "Epoch 8/10\n",
            "47/47 [==============================] - 7s 154ms/step - loss: 0.0424 - accuracy: 0.9878 - val_loss: 1.0850 - val_accuracy: 0.7758\n",
            "Epoch 9/10\n",
            "47/47 [==============================] - 9s 186ms/step - loss: 0.0264 - accuracy: 0.9878 - val_loss: 1.1463 - val_accuracy: 0.7697\n",
            "Epoch 10/10\n",
            "47/47 [==============================] - 8s 172ms/step - loss: 0.0408 - accuracy: 0.9919 - val_loss: 1.1184 - val_accuracy: 0.7818\n"
          ]
        },
        {
          "output_type": "execute_result",
          "data": {
            "text/plain": [
              "<keras.src.callbacks.History at 0x7d7f2f772230>"
            ]
          },
          "metadata": {},
          "execution_count": 29
        }
      ]
    },
    {
      "cell_type": "code",
      "source": [
        "img_path='/content/images.jpeg'\n",
        "img_pillow=Image.open(img_path)\n",
        "img_color=img_pillow.convert('RGB')\n",
        "img_resize=img_color.resize((64,64))\n",
        "img_arr=np.array(img_resize)\n",
        "img_scaled=img_arr/255\n",
        "img_reshape=np.reshape(img_scaled,[1,64,64,3])\n",
        "prediction=model.predict(img_reshape)\n",
        "output=np.argmax(prediction)\n",
        "if(output==0):\n",
        "  print('The vehicle is NOT EMERGENCY VEHICLE')\n",
        "elif(output==1):\n",
        "  print('The vehicle is EMERGENCY VEHICLE')"
      ],
      "metadata": {
        "colab": {
          "base_uri": "https://localhost:8080/"
        },
        "id": "sRuaRdYM8kSb",
        "outputId": "5773b7a3-59ec-4922-ae94-0333a7ad0626"
      },
      "execution_count": 35,
      "outputs": [
        {
          "output_type": "stream",
          "name": "stdout",
          "text": [
            "1/1 [==============================] - 0s 37ms/step\n",
            "The vehicle is EMERGENCY VEHICLE\n"
          ]
        }
      ]
    },
    {
      "cell_type": "code",
      "source": [],
      "metadata": {
        "id": "jq1wjyKs_DPI"
      },
      "execution_count": null,
      "outputs": []
    }
  ]
}